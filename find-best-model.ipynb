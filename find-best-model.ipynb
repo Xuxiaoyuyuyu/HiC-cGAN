{
 "cells": [
  {
   "cell_type": "code",
   "execution_count": 1,
   "id": "314af022-be55-487f-95ab-b0f2fbd686a8",
   "metadata": {
    "tags": []
   },
   "outputs": [],
   "source": [
    "# -*- encoding: utf-8 -*-\n",
    "import IPython.display as display\n",
    "import pandas as pd\n",
    "import os\n",
    "import numpy as np\n",
    "import torch\n",
    "from torch.utils.data import Dataset\n",
    "from models import Generator\n",
    "from torch import nn\n",
    "import hickle as hkl\n",
    "import matplotlib\n",
    "import matplotlib.pyplot as plt\n",
    "torch.cuda.set_device(3)\n",
    "os.environ[\"CUDA_VISIBLE_DEVICES\"] = \"3\"\n",
    "device = torch.device(\"cuda\")\n",
    "\n",
    "class testDataset(Dataset):\n",
    "    def __init__(self):\n",
    "        lo, hi, distance_chrome = hkl.load('./data/GM12878/test_data_half.hkl')\n",
    "        lo = lo.squeeze()\n",
    "        hi = hi.squeeze()\n",
    "        lo = np.expand_dims(lo,axis=1)\n",
    "        hi = np.expand_dims(hi,axis=1)\n",
    "        self.sample_list = []\n",
    "        for i in range(len(lo)):\n",
    "            lr = lo[i]\n",
    "            hr = hi[i]\n",
    "            dist = abs(distance_chrome[i][0])\n",
    "            label_one_hot = torch.zeros(5)\n",
    "            label_one_hot[int(dist/40)]=1\n",
    "            chrom = distance_chrome[i][1]\n",
    "            self.sample_list.append([lr, hr, label_one_hot, dist, chrom])\n",
    "        print(\"dataset loaded : \" + str(len(lo)) + '*' + str(len(lo[0])) + '*' + str(len(lo[0][0])) + '*' + str(len(lo[0][0][0])))\n",
    "    def __getitem__(self, i):\n",
    "        (lr_img, hr_img, label_one_hot, distance, chromosome) = self.sample_list[i]\n",
    "        return lr_img, hr_img, label_one_hot, distance, chromosome\n",
    "    def __len__(self):\n",
    "        return len(self.sample_list)\n",
    "    "
   ]
  },
  {
   "cell_type": "code",
   "execution_count": 2,
   "id": "6cce27c1-5045-4901-a7a7-8f66ba8b7358",
   "metadata": {
    "tags": []
   },
   "outputs": [
    {
     "name": "stdout",
     "output_type": "stream",
     "text": [
      "dataset loaded : 3173*1*40*40\n"
     ]
    }
   ],
   "source": [
    "test_dataset = testDataset()\n",
    "test_loader = torch.utils.data.DataLoader(test_dataset,\n",
    "                                               batch_size=1,\n",
    "                                               shuffle=False,\n",
    "                                               num_workers=1,\n",
    "                                               pin_memory=True)\n",
    "generator = Generator(kernel_size=3,n_channels=64,n_blocks=5)\n",
    "generator = generator.to(device)\n",
    "mse_loss_criterion = nn.MSELoss()\n",
    "mse_loss_criterion = mse_loss_criterion.to(device)"
   ]
  },
  {
   "cell_type": "code",
   "execution_count": 3,
   "id": "87f34551-c056-46d5-8a18-bb5a085b2020",
   "metadata": {
    "tags": []
   },
   "outputs": [
    {
     "name": "stdout",
     "output_type": "stream",
     "text": [
      "***开始测试***\n",
      "正在测试模型：27/30\n",
      "正在处理样本 ： 3173/3173\n",
      "MSE_AVG = 0.032896783\n",
      "MSE_0   = 0.042761058\n",
      "MSE_40  = 0.024307575\n",
      "MSE_80  = 0.027780522\n",
      "MSE_120 = 0.03336994\n",
      "MSE_160 = 0.03626112\n",
      "***测试结束***\n"
     ]
    }
   ],
   "source": [
    "num_to_test = 30\n",
    "df = pd.read_excel(\"./log_wgan.xls\", usecols=[0, 1])\n",
    "df = df.sort_values(by='MSE损失',inplace=False,ascending=True).head(num_to_test)\n",
    "mse_list_train = df[\"MSE损失\"].values.tolist()\n",
    "epoch_list = df[\"epoch\"].values.tolist()\n",
    "list_ave = []\n",
    "list_0 = []\n",
    "list_40 = []\n",
    "list_80 = []\n",
    "list_120 = []\n",
    "list_160 = []\n",
    "cnt = 0\n",
    "for epoch in epoch_list :\n",
    "    model_path = \"./result_wgan/best_checkpoint_epoch\" + str(epoch).zfill(4) + \".pth\"\n",
    "    if os.path.exists(model_path):\n",
    "        cnt = cnt + 1\n",
    "    else:\n",
    "        break\n",
    "    checkpoint = torch.load(model_path)\n",
    "    generator.load_state_dict(checkpoint['generator'])\n",
    "    generator = generator.eval()\n",
    "\n",
    "    ave_mse = []\n",
    "    MSE_0 = []\n",
    "    MSE_40 = []\n",
    "    MSE_80 = []\n",
    "    MSE_120 = []\n",
    "    MSE_160 = []\n",
    "    for i, (lr_img, hr_img, label, distance, chrom) in enumerate(test_loader):\n",
    "        display.clear_output(wait=True)\n",
    "        print(\"***开始测试***\")\n",
    "        print(\"正在测试模型：\" + str(cnt) + \"/\" + str(num_to_test))\n",
    "        print(\"正在处理样本 ： \" + str(i+1) + \"/\"+str(len(test_dataset)))\n",
    "        print(\"MSE_AVG = \" + str(np.mean(ave_mse)))\n",
    "        print(\"MSE_0   = \" + str(np.mean(MSE_0)))\n",
    "        print(\"MSE_40  = \" + str(np.mean(MSE_40)))\n",
    "        print(\"MSE_80  = \" + str(np.mean(MSE_80)))\n",
    "        print(\"MSE_120 = \" + str(np.mean(MSE_120)))\n",
    "        print(\"MSE_160 = \" + str(np.mean(MSE_160)))\n",
    "        \n",
    "        lr_img = lr_img.type(torch.FloatTensor).to(device)\n",
    "        hr_img = hr_img.type(torch.FloatTensor).to(device)\n",
    "        with torch.no_grad():\n",
    "            sr_img = generator(lr_img.detach())\n",
    "        mse = mse_loss_criterion(sr_img , hr_img).to('cpu')\n",
    "        ave_mse.append(mse)\n",
    "        if abs(distance) == 0:\n",
    "            MSE_0.append(mse)\n",
    "        elif abs(distance) == 40:\n",
    "            MSE_40.append(mse) \n",
    "        elif abs(distance) == 80:\n",
    "            MSE_80.append(mse) \n",
    "        elif abs(distance) == 120:\n",
    "            MSE_120.append(mse) \n",
    "        elif abs(distance) == 160:\n",
    "            MSE_160.append(mse)\n",
    "    list_ave.append(np.mean(ave_mse))\n",
    "    list_0.append(np.mean(MSE_0))\n",
    "    list_40.append(np.mean(MSE_40))\n",
    "    list_80.append(np.mean(MSE_80))\n",
    "    list_120.append(np.mean(MSE_120))\n",
    "    list_160.append(np.mean(MSE_160))\n",
    "print(\"***测试结束***\")"
   ]
  },
  {
   "cell_type": "code",
   "execution_count": 4,
   "id": "2694e860-bf48-429d-b390-56962cba270d",
   "metadata": {
    "tags": []
   },
   "outputs": [
    {
     "name": "stdout",
     "output_type": "stream",
     "text": [
      " epoch  mse_train  mse_test     mse_0    mse_40    mse_80   mse_120   mse_160\n",
      "  7557   0.024359  0.024704  0.017214  0.019051  0.024069  0.029579  0.034385\n",
      "  6151   0.022956  0.028580  0.021048  0.022744  0.029591  0.033903  0.036327\n",
      "  6148   0.023718  0.028592  0.021283  0.022114  0.029279  0.034292  0.036730\n",
      "  6094   0.024080  0.028865  0.020235  0.023480  0.030219  0.034436  0.036700\n",
      "  6095   0.023949  0.028893  0.020062  0.023603  0.030068  0.034489  0.037007\n",
      "  6150   0.023491  0.029261  0.024331  0.022412  0.028824  0.034323  0.037062\n",
      "  6096   0.023799  0.029265  0.019802  0.024582  0.030977  0.034667  0.037055\n",
      "  5091   0.023577  0.029331  0.040429  0.020000  0.022617  0.028751  0.034879\n",
      "  7612   0.024315  0.029624  0.029188  0.022676  0.027705  0.032999  0.035982\n",
      "  6092   0.024105  0.029673  0.024585  0.023903  0.029433  0.034214  0.036832\n",
      "  6091   0.024158  0.029800  0.023278  0.024149  0.030191  0.034812  0.037234\n",
      "  6090   0.024146  0.029970  0.022427  0.024177  0.030949  0.035440  0.037565\n",
      "  6115   0.024713  0.030189  0.021561  0.023340  0.032276  0.036484  0.038070\n",
      "  7610   0.024431  0.030232  0.034139  0.023304  0.026628  0.032004  0.035307\n",
      "  6089   0.024158  0.030561  0.023459  0.024654  0.031320  0.035973  0.038092\n",
      "  6086   0.024672  0.030683  0.019498  0.025912  0.033398  0.036887  0.038547\n",
      "   153   0.023193  0.030861  0.040335  0.025372  0.026475  0.029265  0.032704\n",
      "  7613   0.024331  0.030869  0.035230  0.024022  0.027172  0.032471  0.035643\n",
      "  6149   0.023669  0.031087  0.021974  0.024149  0.032592  0.037830  0.039730\n",
      "  6093   0.024121  0.031503  0.021079  0.025633  0.033849  0.038168  0.039627\n",
      "  7611   0.024333  0.031556  0.039558  0.025055  0.026387  0.031640  0.035146\n",
      "  7608   0.024918  0.031957  0.026764  0.023881  0.032715  0.037774  0.039320\n",
      "  6147   0.024765  0.032048  0.022590  0.024667  0.033727  0.039208  0.040920\n",
      "  7607   0.024919  0.032902  0.042772  0.024308  0.027781  0.033370  0.036261\n",
      "  7609   0.024912  0.033246  0.039602  0.024334  0.029619  0.035233  0.037598\n",
      "  6110   0.024512  0.036297  0.030607  0.030073  0.038697  0.041321  0.041339\n",
      "   154   0.023597  0.040062  0.049458  0.038909  0.035424  0.036513  0.039666\n"
     ]
    }
   ],
   "source": [
    "data = {\"epoch\" : epoch_list[0:cnt],\n",
    "        \"mse_train\" :mse_list_train[0:cnt],\n",
    "        \"mse_test\" : list_ave,\n",
    "        \"mse_0\"   : list_0,\n",
    "        \"mse_40\"  : list_40,\n",
    "        \"mse_80\"  : list_80,\n",
    "        \"mse_120\" : list_120,\n",
    "        \"mse_160\" : list_160}\n",
    "df=pd.DataFrame(data)\n",
    "df.to_excel(\"./model2.xlsx\")\n",
    "df = df.sort_values(by='mse_test',inplace=False,ascending=True).head(num_to_test)\n",
    "print(df.head(100).to_string(index=False))"
   ]
  },
  {
   "cell_type": "markdown",
   "id": "61fc2f59-25ec-4f2a-975d-a92d23aa4e63",
   "metadata": {},
   "source": [
    "## "
   ]
  }
 ],
 "metadata": {
  "kernelspec": {
   "display_name": "Python 3",
   "language": "python",
   "name": "python3"
  },
  "language_info": {
   "codemirror_mode": {
    "name": "ipython",
    "version": 3
   },
   "file_extension": ".py",
   "mimetype": "text/x-python",
   "name": "python",
   "nbconvert_exporter": "python",
   "pygments_lexer": "ipython3",
   "version": "3.6.9"
  }
 },
 "nbformat": 4,
 "nbformat_minor": 5
}
