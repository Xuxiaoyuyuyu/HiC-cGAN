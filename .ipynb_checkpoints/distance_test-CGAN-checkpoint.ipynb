{
 "cells": [
  {
   "cell_type": "code",
   "execution_count": 1,
   "id": "15c6db64-b9a5-4043-a5ca-a7ab4cc32d01",
   "metadata": {},
   "outputs": [],
   "source": [
    "# -*- encoding: utf-8 -*-\n",
    "import IPython.display as display\n",
    "import os\n",
    "import numpy as np\n",
    "import torch\n",
    "from torch.utils.data import Dataset\n",
    "from models import ConvolutionalBlock, ResidualBlock\n",
    "from torch import nn\n",
    "import hickle as hkl\n",
    "import matplotlib\n",
    "import matplotlib.pyplot as plt\n",
    "from skimage.metrics import peak_signal_noise_ratio, structural_similarity\n",
    "torch.cuda.set_device(3)\n",
    "os.environ[\"CUDA_VISIBLE_DEVICES\"] = \"3\"\n",
    "device = torch.device(\"cuda\" if torch.cuda.is_available() else \"cpu\")\n",
    "#model 3840\n",
    "epoch = '3840'\n",
    "model_path = \"./model/best_checkpoint_epoch\" + str(epoch) + \".pth\"\n",
    "data_path = './data/K562/test_data_half.hkl'"
   ]
  },
  {
   "cell_type": "code",
   "execution_count": 2,
   "id": "9a84a22e-5b96-4b4c-b954-3effafdbf181",
   "metadata": {
    "tags": []
   },
   "outputs": [],
   "source": [
    "class testDataset(Dataset):\n",
    "    def __init__(self):\n",
    "        lo, hi, distance_chrome = hkl.load(data_path)\n",
    "        lo = lo.squeeze()\n",
    "        hi = hi.squeeze()\n",
    "        lo = np.expand_dims(lo,axis=1)\n",
    "        hi = np.expand_dims(hi,axis=1)\n",
    "        self.sample_list = []\n",
    "        for i in range(len(lo)):\n",
    "            lr = lo[i]\n",
    "            hr = hi[i]\n",
    "            dist = abs(distance_chrome[i][0])\n",
    "            label_one_hot = torch.zeros(5)\n",
    "            label_one_hot[-int(dist/40)]=1\n",
    "            chrom = distance_chrome[i][1]\n",
    "            self.sample_list.append([lr, hr, label_one_hot, dist, chrom])\n",
    "        print(\"dataset loaded : \" + str(len(lo)) + '*' + str(len(lo[0])) + '*' + str(len(lo[0][0])) + '*' + str(len(lo[0][0][0])))\n",
    "\n",
    "    def __getitem__(self, i):\n",
    "        (lr_img, hr_img, label_one_hot, distance, chromosome) = self.sample_list[i]\n",
    "        return lr_img, hr_img, label_one_hot, distance, chromosome\n",
    "\n",
    "    def __len__(self):\n",
    "        return len(self.sample_list)\n",
    "    \n",
    "class Generator(nn.Module):\n",
    "    def __init__(self, kernel_size=3, n_channels=64, n_blocks=5):\n",
    "        super(Generator, self).__init__()\n",
    "\n",
    "        # 第一个卷积块\n",
    "        self.conv_block1 = ConvolutionalBlock(in_channels=6, out_channels=n_channels, kernel_size=kernel_size,\n",
    "                                              batch_norm=False, activation='relu')\n",
    "\n",
    "        # 一系列残差模块, 每个残差模块包含一个跳连\n",
    "        self.residual_blocks = nn.Sequential(\n",
    "            *[ResidualBlock(kernel_size=kernel_size, n_channels=n_channels) for i in range(n_blocks)])\n",
    "\n",
    "        # 第二个卷积块\n",
    "        self.conv_block2 = ConvolutionalBlock(in_channels=n_channels, out_channels=n_channels,\n",
    "                                              kernel_size=kernel_size,\n",
    "                                              batch_norm=True, activation=None)\n",
    "\n",
    "        # 最后3个卷积模块\n",
    "        self.conv_block3 = ConvolutionalBlock(in_channels=n_channels, out_channels=128, kernel_size=kernel_size,\n",
    "                                              batch_norm=False, activation=None)\n",
    "        self.conv_block4 = ConvolutionalBlock(in_channels=128, out_channels=256, kernel_size=kernel_size,\n",
    "                                              batch_norm=False, activation=None)\n",
    "        self.conv_block5 = ConvolutionalBlock(in_channels=256, out_channels=1, kernel_size=1,\n",
    "                                              batch_norm=False, activation='tanh')\n",
    "\n",
    "    def forward(self, lr_imgs):\n",
    "        output = self.conv_block1(lr_imgs)  # (batch_size, 1, 40, 40)\n",
    "        residual = output\n",
    "        output = self.residual_blocks(output)\n",
    "        output = self.conv_block2(output)\n",
    "        output = output + residual\n",
    "        output = self.conv_block3(output)\n",
    "        output = self.conv_block4(output)\n",
    "        sr_imgs = self.conv_block5(output)\n",
    "        return sr_imgs\n",
    "\n",
    "def make_input(imgs, distances): #imgs batchsize*1*40*40     distances batchsize*5\n",
    "    dis = distances.unsqueeze(2).unsqueeze(3)\n",
    "    dis = dis.repeat(1,1,40,40)\n",
    "    data_input = torch.cat((imgs,dis),1)\n",
    "    return data_input"
   ]
  },
  {
   "cell_type": "code",
   "execution_count": 3,
   "id": "35e04e15-ed64-4078-a109-015320ad386b",
   "metadata": {
    "tags": []
   },
   "outputs": [
    {
     "name": "stdout",
     "output_type": "stream",
     "text": [
      "dataset loaded : 2997*1*40*40\n"
     ]
    }
   ],
   "source": [
    "checkpoint = torch.load(model_path)\n",
    "test_dataset = testDataset()\n",
    "test_loader = torch.utils.data.DataLoader(test_dataset,\n",
    "                                               batch_size=1,\n",
    "                                               shuffle=False,\n",
    "                                               num_workers=1,\n",
    "                                               pin_memory=True)\n",
    "generator = Generator(kernel_size=3,n_channels=64,n_blocks=5)\n",
    "generator = generator.to(device)\n",
    "generator.load_state_dict(checkpoint['generator'])\n",
    "generator = generator.eval()\n",
    "mse_loss_criterion = nn.MSELoss()\n",
    "mse_loss_criterion = mse_loss_criterion.to(device)"
   ]
  },
  {
   "cell_type": "code",
   "execution_count": 4,
   "id": "9068aa54-936c-4419-9cdd-551b7c8e3de8",
   "metadata": {
    "tags": []
   },
   "outputs": [
    {
     "name": "stdout",
     "output_type": "stream",
     "text": [
      "***开始测试***\n",
      "正在处理样本 ： 2997/2997\n",
      "MSE_AVG = 0.032608904  PSNR_AVG = 22.049177346205752  SSIM_AVG = 0.29900220012808426\n",
      "MSE_0   = 0.012414301  PSNR_0   = 26.267758763445112  SSIM_0   = 0.6422944685348498\n",
      "MSE_40  = 0.025075084  PSNR_40  = 22.90304003591582  SSIM_40  = 0.3472971943150061\n",
      "MSE_80  = 0.033285342  PSNR_80  = 21.236113981881317  SSIM_80  = 0.19731360084018967\n",
      "MSE_120 = 0.046158474  PSNR_120 = 19.704272616612496  SSIM_120 = 0.127260253136065\n",
      "MSE_160 = 0.052677963  PSNR_160 = 19.10169189843139  SSIM_160 = 0.11049550498028742\n"
     ]
    }
   ],
   "source": [
    "ave_mse = []\n",
    "MSE_0 = []\n",
    "MSE_40 = []\n",
    "MSE_80 = []\n",
    "MSE_120 = []\n",
    "MSE_160 = []\n",
    "ave_psnr = []\n",
    "PSNR_0 = []\n",
    "PSNR_40 = []\n",
    "PSNR_80 = []\n",
    "PSNR_120 = []\n",
    "PSNR_160 = []\n",
    "ave_ssim = []\n",
    "SSIM_0 = []\n",
    "SSIM_40 = []\n",
    "SSIM_80 = []\n",
    "SSIM_120 = []\n",
    "SSIM_160 = []\n",
    "for i, (lr_img, hr_img, label, distance, chrom) in enumerate(test_loader):\n",
    "    display.clear_output(wait=True)\n",
    "    print(\"***开始测试***\")\n",
    "    print(\"正在处理样本 ： \" + str(i+1) + \"/\"+str(len(test_dataset)))\n",
    "    print(\"MSE_AVG = \" + str(np.mean(ave_mse))  + \"  PSNR_AVG = \" + str(np.mean(ave_psnr))+ \"  SSIM_AVG = \" + str(np.mean(ave_ssim)))\n",
    "    print(\"MSE_0   = \" + str(np.mean(MSE_0))  + \"  PSNR_0   = \" + str(np.mean(PSNR_0))+ \"  SSIM_0   = \" + str(np.mean(SSIM_0)))\n",
    "    print(\"MSE_40  = \" + str(np.mean(MSE_40)) + \"  PSNR_40  = \" + str(np.mean(PSNR_40))+ \"  SSIM_40  = \" + str(np.mean(SSIM_40)))\n",
    "    print(\"MSE_80  = \" + str(np.mean(MSE_80)) + \"  PSNR_80  = \" + str(np.mean(PSNR_80))+ \"  SSIM_80  = \" + str(np.mean(SSIM_80)))\n",
    "    print(\"MSE_120 = \" + str(np.mean(MSE_120))+ \"  PSNR_120 = \" + str(np.mean(PSNR_120))+ \"  SSIM_120 = \" + str(np.mean(SSIM_120)))\n",
    "    print(\"MSE_160 = \" + str(np.mean(MSE_160))+ \"  PSNR_160 = \" + str(np.mean(PSNR_160))+ \"  SSIM_160 = \" + str(np.mean(SSIM_160)))\n",
    "\n",
    "    lr_img = lr_img.type(torch.FloatTensor).to(device)\n",
    "    hr_img = hr_img.type(torch.FloatTensor).to(device)\n",
    "    label = label.to(device)\n",
    "    G_input = make_input(lr_img, label)\n",
    "    with torch.no_grad():\n",
    "        sr_img = generator(G_input.detach())\n",
    "    \n",
    "    mse = mse_loss_criterion(sr_img , hr_img).to('cpu')\n",
    "    sr_img = sr_img.squeeze().to(\"cpu\").numpy()\n",
    "    hr_img = hr_img.squeeze().to(\"cpu\").numpy()\n",
    "\n",
    "    psnr = peak_signal_noise_ratio(hr_img, sr_img)\n",
    "    ssim = structural_similarity(hr_img, sr_img)\n",
    "\n",
    "    ave_mse.append(mse)\n",
    "    ave_psnr.append(psnr)\n",
    "    ave_ssim.append(ssim)\n",
    "    if abs(distance) == 0:\n",
    "        MSE_0.append(mse)\n",
    "        PSNR_0.append(psnr)\n",
    "        SSIM_0.append(ssim)\n",
    "    elif abs(distance) == 40:\n",
    "        MSE_40.append(mse)\n",
    "        PSNR_40.append(psnr)\n",
    "        SSIM_40.append(ssim)\n",
    "    elif abs(distance) == 80:\n",
    "        MSE_80.append(mse)\n",
    "        PSNR_80.append(psnr)\n",
    "        SSIM_80.append(ssim)\n",
    "    elif abs(distance) == 120:\n",
    "        MSE_120.append(mse)\n",
    "        PSNR_120.append(psnr)\n",
    "        SSIM_120.append(ssim)\n",
    "    elif abs(distance) == 160:\n",
    "        MSE_160.append(mse)\n",
    "        PSNR_160.append(psnr)\n",
    "        SSIM_160.append(ssim)\n"
   ]
  },
  {
   "cell_type": "code",
   "execution_count": 5,
   "id": "c88bc310-27a2-4912-bebf-1a4eac326438",
   "metadata": {
    "tags": []
   },
   "outputs": [
    {
     "name": "stdout",
     "output_type": "stream",
     "text": [
      "***测试结束***\n",
      "测试集总数：2997\n",
      "训练轮数：3840   MSE_AVG = 0.032600243\n",
      "MSE_AVG = 0.032600  PSNR_AVG = 22.051  SSIM_AVG = 0.29913\n",
      "MSE_0   = 0.012405  PSNR_0   = 26.270  SSIM_0   = 0.64239\n",
      "MSE_40  = 0.025075  PSNR_40  = 22.903  SSIM_40  = 0.34729\n",
      "MSE_80  = 0.033285  PSNR_80  = 21.236  SSIM_80  = 0.19731\n",
      "MSE_120 = 0.046158  PSNR_120 = 19.704  SSIM_120 = 0.12726\n",
      "MSE_160 = 0.052677  PSNR_160 = 19.101  SSIM_160 = 0.11049\n"
     ]
    }
   ],
   "source": [
    "display.clear_output(wait=True)\n",
    "print(\"***测试结束***\")\n",
    "print(\"测试集总数：\" + str(len(test_dataset)))\n",
    "print(\"训练轮数：\" + str(epoch) + \"   MSE_AVG = \" + str(np.mean(ave_mse)))\n",
    "print(\"MSE_AVG = \" + str(np.mean(ave_mse))[:8]  + \"  PSNR_AVG = \" + str(np.mean(ave_psnr))[:6]+ \"  SSIM_AVG = \" + str(np.mean(ave_ssim))[:7])\n",
    "print(\"MSE_0   = \" + str(np.mean(MSE_0))[:8]  + \"  PSNR_0   = \" + str(np.mean(PSNR_0))[:6]+ \"  SSIM_0   = \" + str(np.mean(SSIM_0))[:7])\n",
    "print(\"MSE_40  = \" + str(np.mean(MSE_40))[:8] + \"  PSNR_40  = \" + str(np.mean(PSNR_40))[:6]+ \"  SSIM_40  = \" + str(np.mean(SSIM_40))[:7])\n",
    "print(\"MSE_80  = \" + str(np.mean(MSE_80))[:8] + \"  PSNR_80  = \" + str(np.mean(PSNR_80))[:6]+ \"  SSIM_80  = \" + str(np.mean(SSIM_80))[:7])\n",
    "print(\"MSE_120 = \" + str(np.mean(MSE_120))[:8]+ \"  PSNR_120 = \" + str(np.mean(PSNR_120))[:6]+ \"  SSIM_120 = \" + str(np.mean(SSIM_120))[:7])\n",
    "print(\"MSE_160 = \" + str(np.mean(MSE_160))[:8]+ \"  PSNR_160 = \" + str(np.mean(PSNR_160))[:6]+ \"  SSIM_160 = \" + str(np.mean(SSIM_160))[:7])"
   ]
  },
  {
   "cell_type": "code",
   "execution_count": 9,
   "id": "f122c1eb-e205-4f9a-b599-1a2e519418d4",
   "metadata": {
    "tags": []
   },
   "outputs": [
    {
     "name": "stderr",
     "output_type": "stream",
     "text": [
      "/usr/local/lib/python3.6/dist-packages/ipykernel_launcher.py:13: UserWarning: FixedFormatter should only be used together with FixedLocator\n",
      "  del sys.path[0]\n"
     ]
    },
    {
     "data": {
      "text/plain": [
       "[Text(0.0, 0, ''),\n",
       " Text(1.0, 0, '0'),\n",
       " Text(2.0, 0, '40'),\n",
       " Text(3.0, 0, '80'),\n",
       " Text(4.0, 0, '120'),\n",
       " Text(5.0, 0, '160'),\n",
       " Text(6.0, 0, '')]"
      ]
     },
     "execution_count": 9,
     "metadata": {},
     "output_type": "execute_result"
    },
    {
     "data": {
      "image/png": "[encoded data removed]",
      "text/plain": [
       "<Figure size 432x288 with 1 Axes>"
      ]
     },
     "metadata": {
      "needs_background": "light"
     },
     "output_type": "display_data"
    }
   ],
   "source": [
    "data = [MSE_0, MSE_40, MSE_80, MSE_120, MSE_160]\n",
    "\n",
    "size_label = 20\n",
    "size_ticks = 20\n",
    "\n",
    "\n",
    "plt.violinplot(data,showmeans=True)\n",
    "plt.xlabel('genome distance',fontsize=size_label)\n",
    "plt.ylabel('MSE',fontsize=size_label)\n",
    "plt.xticks(fontsize=size_ticks)\n",
    "plt.yticks(fontsize=size_ticks)\n",
    "plt.grid(axis='y')\n",
    "plt.gca().set_xticklabels(['','0','40','80','120','160'])"
   ]
  },
  {
   "cell_type": "code",
   "execution_count": 7,
   "id": "aa4298a0-12ee-458d-bc8f-6903962cd0b9",
   "metadata": {},
   "outputs": [
    {
     "name": "stderr",
     "output_type": "stream",
     "text": [
      "/usr/local/lib/python3.6/dist-packages/ipykernel_launcher.py:6: UserWarning: FixedFormatter should only be used together with FixedLocator\n",
      "  \n"
     ]
    },
    {
     "data": {
      "text/plain": [
       "[Text(0.0, 0, ''),\n",
       " Text(1.0, 0, '0'),\n",
       " Text(2.0, 0, '40'),\n",
       " Text(3.0, 0, '80'),\n",
       " Text(4.0, 0, '120'),\n",
       " Text(5.0, 0, '160'),\n",
       " Text(6.0, 0, '')]"
      ]
     },
     "execution_count": 7,
     "metadata": {},
     "output_type": "execute_result"
    },
    {
     "data": {
      "image/png": "[encoded data removed]",
      "text/plain": [
       "<Figure size 432x288 with 1 Axes>"
      ]
     },
     "metadata": {
      "needs_background": "light"
     },
     "output_type": "display_data"
    }
   ],
   "source": [
    "data = [PSNR_0, PSNR_40, PSNR_80, PSNR_120, PSNR_160]\n",
    "plt.violinplot(data,showmeans=True)\n",
    "plt.xlabel('genome distance',fontsize=size_label)\n",
    "plt.ylabel('PSNR',fontsize=size_label)\n",
    "plt.xticks(fontsize=size_ticks)\n",
    "plt.yticks(fontsize=size_ticks)\n",
    "plt.grid(axis='y')\n",
    "plt.gca().set_xticklabels(['','0','40','80','120','160'])"
   ]
  },
  {
   "cell_type": "code",
   "execution_count": 8,
   "id": "3d26bc36-a5e4-4e55-b955-78c0b96adcd9",
   "metadata": {},
   "outputs": [
    {
     "name": "stderr",
     "output_type": "stream",
     "text": [
      "/usr/local/lib/python3.6/dist-packages/ipykernel_launcher.py:6: UserWarning: FixedFormatter should only be used together with FixedLocator\n",
      "  \n"
     ]
    },
    {
     "data": {
      "text/plain": [
       "[Text(0.0, 0, ''),\n",
       " Text(1.0, 0, '0'),\n",
       " Text(2.0, 0, '40'),\n",
       " Text(3.0, 0, '80'),\n",
       " Text(4.0, 0, '120'),\n",
       " Text(5.0, 0, '160'),\n",
       " Text(6.0, 0, '')]"
      ]
     },
     "execution_count": 8,
     "metadata": {},
     "output_type": "execute_result"
    },
    {
     "data": {
      "image/png": "[encoded data removed]",
      "text/plain": [
       "<Figure size 432x288 with 1 Axes>"
      ]
     },
     "metadata": {
      "needs_background": "light"
     },
     "output_type": "display_data"
    }
   ],
   "source": [
    "data = [SSIM_0, SSIM_40, SSIM_80, SSIM_120, SSIM_160]\n",
    "plt.violinplot(data,showmeans=True)\n",
    "plt.xlabel('genome distance',fontsize=size_label)\n",
    "plt.ylabel('SSIM',fontsize=size_label)\n",
    "plt.xticks(fontsize=size_ticks)\n",
    "plt.yticks(fontsize=size_ticks)\n",
    "plt.grid(axis='y')\n",
    "plt.gca().set_xticklabels(['','0','40','80','120','160'])"
   ]
  },
  {
   "cell_type": "code",
   "execution_count": null,
   "id": "86a65785-7728-4ef3-911d-ca7bc2583793",
   "metadata": {},
   "outputs": [],
   "source": []
  }
 ],
 "metadata": {
  "kernelspec": {
   "display_name": "Python 3",
   "language": "python",
   "name": "python3"
  },
  "language_info": {
   "codemirror_mode": {
    "name": "ipython",
    "version": 3
   },
   "file_extension": ".py",
   "mimetype": "text/x-python",
   "name": "python",
   "nbconvert_exporter": "python",
   "pygments_lexer": "ipython3",
   "version": "3.6.9"
  }
 },
 "nbformat": 4,
 "nbformat_minor": 5
}
