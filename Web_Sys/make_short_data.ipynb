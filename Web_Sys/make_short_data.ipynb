{
 "cells": [
  {
   "cell_type": "code",
   "execution_count": 1,
   "id": "314af022-be55-487f-95ab-b0f2fbd686a8",
   "metadata": {},
   "outputs": [],
   "source": [
    "import hickle as hkl"
   ]
  },
  {
   "cell_type": "code",
   "execution_count": 2,
   "id": "69706932-2bcb-4884-be28-8d5629da797f",
   "metadata": {
    "tags": []
   },
   "outputs": [],
   "source": [
    "test_data_path = './low.hkl'\n",
    "lo, hi, distance_chrome = hkl.load(test_data_path)"
   ]
  },
  {
   "cell_type": "code",
   "execution_count": 3,
   "id": "da9eb260-dd4a-4915-8631-2f091d6838e5",
   "metadata": {
    "tags": []
   },
   "outputs": [],
   "source": [
    "k=100\n",
    "lo = lo[0:k]\n",
    "hi = hi[0:k]\n",
    "d = distance_chrome[0:k]\n",
    "# print(len(distance_chrome))\n",
    "# print(len(distance_chrome[0]))\n",
    "# print(len(distance_chrome[0][0]))\n",
    "# print(len(distance_chrome[0][0][0]))\n",
    "hkl.dump([lo, hi, d],'web_test.hkl')"
   ]
  },
  {
   "cell_type": "code",
   "execution_count": null,
   "id": "08dc19db-348a-4cdf-ba8c-e4beb8c6ead4",
   "metadata": {
    "tags": []
   },
   "outputs": [],
   "source": []
  },
  {
   "cell_type": "code",
   "execution_count": null,
   "id": "64ef6f86-c21d-44e4-a0c9-641308d1926c",
   "metadata": {},
   "outputs": [],
   "source": []
  },
  {
   "cell_type": "code",
   "execution_count": null,
   "id": "db81ed0a-7e04-4ab9-910b-dfc4e141771a",
   "metadata": {},
   "outputs": [],
   "source": []
  }
 ],
 "metadata": {
  "kernelspec": {
   "display_name": "Python 3",
   "language": "python",
   "name": "python3"
  },
  "language_info": {
   "codemirror_mode": {
    "name": "ipython",
    "version": 3
   },
   "file_extension": ".py",
   "mimetype": "text/x-python",
   "name": "python",
   "nbconvert_exporter": "python",
   "pygments_lexer": "ipython3",
   "version": "3.6.9"
  }
 },
 "nbformat": 4,
 "nbformat_minor": 5
}
