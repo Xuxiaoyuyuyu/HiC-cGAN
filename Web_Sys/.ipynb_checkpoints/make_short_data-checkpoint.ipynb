{
 "cells": [
  {
   "cell_type": "code",
   "execution_count": 1,
   "id": "314af022-be55-487f-95ab-b0f2fbd686a8",
   "metadata": {},
   "outputs": [],
   "source": [
    "import hickle as hkl\n",
    "test_data_path = './data/GM12878/test_data_half.hkl'"
   ]
  },
  {
   "cell_type": "code",
   "execution_count": 2,
   "id": "0a914c35-7c93-43ca-9f03-916891752cbd",
   "metadata": {
    "tags": []
   },
   "outputs": [
    {
     "ename": "SyntaxError",
     "evalue": "invalid character in identifier (<ipython-input-2-233ebd0ef61e>, line 3)",
     "output_type": "error",
     "traceback": [
      "\u001b[0;36m  File \u001b[0;32m\"<ipython-input-2-233ebd0ef61e>\"\u001b[0;36m, line \u001b[0;32m3\u001b[0m\n\u001b[0;31m    lo = lo[0:k,：,：]\u001b[0m\n\u001b[0m                ^\u001b[0m\n\u001b[0;31mSyntaxError\u001b[0m\u001b[0;31m:\u001b[0m invalid character in identifier\n"
     ]
    }
   ],
   "source": [
    "lo, hi, distance_chrome = hkl.load(test_data_path)\n",
    "k=100\n",
    "lo = lo[0:k,:,:]\n",
    "hi = hi[0:k,:,:]\n",
    "distance_chrome = distance_chrome[0:k,：,：]\n",
    "hkl.dump([lo, hi, distance_chrome],'./static/data/high_resolution.hkl')\n"
   ]
  },
  {
   "cell_type": "code",
   "execution_count": null,
   "id": "08dc19db-348a-4cdf-ba8c-e4beb8c6ead4",
   "metadata": {
    "tags": []
   },
   "outputs": [],
   "source": []
  },
  {
   "cell_type": "code",
   "execution_count": null,
   "id": "64ef6f86-c21d-44e4-a0c9-641308d1926c",
   "metadata": {},
   "outputs": [],
   "source": []
  },
  {
   "cell_type": "code",
   "execution_count": null,
   "id": "db81ed0a-7e04-4ab9-910b-dfc4e141771a",
   "metadata": {},
   "outputs": [],
   "source": []
  }
 ],
 "metadata": {
  "kernelspec": {
   "display_name": "Python 3",
   "language": "python",
   "name": "python3"
  },
  "language_info": {
   "codemirror_mode": {
    "name": "ipython",
    "version": 3
   },
   "file_extension": ".py",
   "mimetype": "text/x-python",
   "name": "python",
   "nbconvert_exporter": "python",
   "pygments_lexer": "ipython3",
   "version": "3.6.9"
  }
 },
 "nbformat": 4,
 "nbformat_minor": 5
}
