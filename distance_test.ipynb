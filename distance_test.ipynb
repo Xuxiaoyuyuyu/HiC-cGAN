{
 "cells": [
  {
   "cell_type": "code",
   "execution_count": 1,
   "id": "314af022-be55-487f-95ab-b0f2fbd686a8",
   "metadata": {},
   "outputs": [],
   "source": [
    "# -*- encoding: utf-8 -*-\n",
    "import IPython.display as display\n",
    "import os\n",
    "import numpy as np\n",
    "import math\n",
    "import torch\n",
    "from torch.utils.data import Dataset\n",
    "from torch import nn\n",
    "import hickle as hkl\n",
    "from models import Generator\n",
    "import hickle as hkl\n",
    "import matplotlib\n",
    "import matplotlib.pyplot as plt\n",
    "import pytorch_ssim\n",
    "from torch.autograd import Variable\n",
    "from skimage.metrics import peak_signal_noise_ratio, structural_similarity\n",
    "\n",
    "torch.cuda.set_device(0)\n",
    "os.environ[\"CUDA_VISIBLE_DEVICES\"] = \"0\"\n",
    "device = torch.device(\"cuda\" if torch.cuda.is_available() else \"cpu\")\n",
    "\n",
    "model_path = \"./result_wgan-gp/best_checkpoint_epoch0632.pth\"\n",
    "data_path = './data/K562/test_data_half.hkl'\n",
    "class testDataset(Dataset):\n",
    "    def __init__(self):\n",
    "        lo, hi, distance_chrome = hkl.load(data_path)\n",
    "        lo = lo.squeeze()\n",
    "        hi = hi.squeeze()\n",
    "        lo = np.expand_dims(lo,axis=1)\n",
    "        hi = np.expand_dims(hi,axis=1)\n",
    "        \n",
    "        self.sample_list = []\n",
    "        for i in range(len(lo)):\n",
    "            lr = lo[i]\n",
    "            hr = hi[i]\n",
    "            dist = distance_chrome[i][0]\n",
    "            chrom = distance_chrome[i][1]\n",
    "            self.sample_list.append([lr, hr, dist, chrom])\n",
    "        print(\"dataset loaded : \" + str(len(lo)) + '*' + str(len(lo[0])) + '*' + str(len(lo[0][0])) + '*' + str(len(lo[0][0][0])))\n",
    "\n",
    "    def __getitem__(self, i):\n",
    "        (lr_img, hr_img, distance, chromosome) = self.sample_list[i]\n",
    "        return lr_img, hr_img, distance, chromosome\n",
    "\n",
    "    def __len__(self):\n",
    "        return len(self.sample_list)\n",
    "    \n",
    "def psnr(img1, img2):\n",
    "    img1 = np.float64(img1)\n",
    "    img2 = np.float64(img2)\n",
    "    mse = np.mean( (img1 - img2) ** 2 )\n",
    "    if mse == 0:\n",
    "        return 100\n",
    "    PIXEL_MAX = 255.0\n",
    "    return 20 * math.log10(PIXEL_MAX / math.sqrt(mse))\n",
    "\n",
    "def ssim(img1,img2):\n",
    "    img1 = torch.from_numpy(np.rollaxis(img1, 2)).float().unsqueeze(0)/255.0\n",
    "    img2 = torch.from_numpy(np.rollaxis(img2, 2)).float().unsqueeze(0)/255.0   \n",
    "    img1 = Variable( img1,  requires_grad=False)    # torch.Size([256, 256, 3])\n",
    "    img2 = Variable( img2, requires_grad = False)\n",
    "    ssim_value = pytorch_ssim.ssim(img1, img2).item()\n",
    "    return ssim_value"
   ]
  },
  {
   "cell_type": "code",
   "execution_count": 2,
   "id": "35e04e15-ed64-4078-a109-015320ad386b",
   "metadata": {
    "tags": []
   },
   "outputs": [
    {
     "name": "stdout",
     "output_type": "stream",
     "text": [
      "dataset loaded : 2997*1*40*40\n"
     ]
    }
   ],
   "source": [
    "checkpoint = torch.load(model_path)\n",
    "test_dataset = testDataset()\n",
    "test_loader = torch.utils.data.DataLoader(test_dataset,\n",
    "                                               batch_size=1,\n",
    "                                               shuffle=False,\n",
    "                                               num_workers=1,\n",
    "                                               pin_memory=True)\n",
    "generator = Generator(kernel_size=3,n_channels=64,n_blocks=5)\n",
    "generator = generator.to(device)\n",
    "generator.load_state_dict(checkpoint['generator'])\n",
    "generator = generator.eval()\n",
    "mse_loss_criterion = nn.MSELoss()\n",
    "mse_loss_criterion = mse_loss_criterion.to(device)"
   ]
  },
  {
   "cell_type": "code",
   "execution_count": 3,
   "id": "d503c7ec-bce9-408e-9fb4-83e308028935",
   "metadata": {
    "tags": []
   },
   "outputs": [
    {
     "name": "stdout",
     "output_type": "stream",
     "text": [
      "***开始测试***\n",
      "正在处理 ： 2997/2997\n",
      "MSE_AVG = 0.035261165  PSNR_AVG = 21.587009401224748  SSIM_AVG = 0.2747187192783682\n",
      "MSE_0   = 0.013932847  PSNR_0   = 25.352449458798503  SSIM_0   = 0.5331836636993224\n",
      "MSE_40  = 0.023784742  PSNR_40  = 22.985769232512745  SSIM_40  = 0.306370198881099\n",
      "MSE_80  = 0.0400623  PSNR_80  = 20.436165117416206  SSIM_80  = 0.19878756213483492\n",
      "MSE_120 = 0.05082128  PSNR_120 = 19.256716240834283  SSIM_120 = 0.1489067427212247\n",
      "MSE_160 = 0.054319452  PSNR_160 = 18.948233488450153  SSIM_160 = 0.1340287910676012\n",
      "***测试结束***\n"
     ]
    }
   ],
   "source": [
    "Y_mse = []\n",
    "MSE_0 = []\n",
    "MSE_40 = []\n",
    "MSE_80 = []\n",
    "MSE_120 = []\n",
    "MSE_160 = []\n",
    "Y_psnr = []\n",
    "PSNR_0 = []\n",
    "PSNR_40 = []\n",
    "PSNR_80 = []\n",
    "PSNR_120 = []\n",
    "PSNR_160 = []\n",
    "Y_ssim = []\n",
    "SSIM_0 = []\n",
    "SSIM_40 = []\n",
    "SSIM_80 = []\n",
    "SSIM_120 = []\n",
    "SSIM_160 = []\n",
    "for i, (lr_img, hr_img, distance, chrom) in enumerate(test_loader):\n",
    "    display.clear_output(wait=True)\n",
    "    print(\"***开始测试***\")\n",
    "    print(\"正在处理 ： \" + str(i+1) + \"/\" + str(len(test_dataset))) # 3173/5\n",
    "    print(\"MSE_AVG = \" + str(np.mean(Y_mse))  + \"  PSNR_AVG = \" + str(np.mean(Y_psnr))+ \"  SSIM_AVG = \" + str(np.mean(Y_ssim)))\n",
    "    print(\"MSE_0   = \" + str(np.mean(MSE_0))  + \"  PSNR_0   = \" + str(np.mean(PSNR_0))+ \"  SSIM_0   = \" + str(np.mean(SSIM_0)))\n",
    "    print(\"MSE_40  = \" + str(np.mean(MSE_40)) + \"  PSNR_40  = \" + str(np.mean(PSNR_40))+ \"  SSIM_40  = \" + str(np.mean(SSIM_40)))\n",
    "    print(\"MSE_80  = \" + str(np.mean(MSE_80)) + \"  PSNR_80  = \" + str(np.mean(PSNR_80))+ \"  SSIM_80  = \" + str(np.mean(SSIM_80)))\n",
    "    print(\"MSE_120 = \" + str(np.mean(MSE_120))+ \"  PSNR_120 = \" + str(np.mean(PSNR_120))+ \"  SSIM_120 = \" + str(np.mean(SSIM_120)))\n",
    "    print(\"MSE_160 = \" + str(np.mean(MSE_160))+ \"  PSNR_160 = \" + str(np.mean(PSNR_160))+ \"  SSIM_160 = \" + str(np.mean(SSIM_160)))\n",
    "    #img = lr_img.type(torch.FloatTensor).squeeze()\n",
    "    lr_img = lr_img.type(torch.FloatTensor).to(device)\n",
    "    hr_img_gpu = hr_img.type(torch.FloatTensor).to(device)\n",
    "    with torch.no_grad():\n",
    "        sr_img = generator(lr_img.detach())\n",
    "    mse = mse_loss_criterion(sr_img , hr_img_gpu).to('cpu')\n",
    "    sr_img = sr_img.squeeze().to(\"cpu\").numpy()\n",
    "    hr_img = hr_img.squeeze().numpy()\n",
    "#     psnr = psnr(sr_img,hr_img)\n",
    "#     ssim = ssim(sr_img,hr_img)\n",
    "    psnr = peak_signal_noise_ratio(hr_img, sr_img)\n",
    "    ssim = structural_similarity(hr_img, sr_img)\n",
    "    \n",
    "    Y_mse.append(mse)\n",
    "    Y_psnr.append(psnr)\n",
    "    Y_ssim.append(ssim)\n",
    "    if abs(distance) == 0:\n",
    "        MSE_0.append(mse)\n",
    "        PSNR_0.append(psnr)\n",
    "        SSIM_0.append(ssim)\n",
    "    elif abs(distance) == 40:\n",
    "        MSE_40.append(mse)\n",
    "        PSNR_40.append(psnr)\n",
    "        SSIM_40.append(ssim)\n",
    "    elif abs(distance) == 80:\n",
    "        MSE_80.append(mse)\n",
    "        PSNR_80.append(psnr)\n",
    "        SSIM_80.append(ssim)\n",
    "    elif abs(distance) == 120:\n",
    "        MSE_120.append(mse)\n",
    "        PSNR_120.append(psnr)\n",
    "        SSIM_120.append(ssim)\n",
    "    elif abs(distance) == 160:\n",
    "        MSE_160.append(mse)\n",
    "        PSNR_160.append(psnr)\n",
    "        SSIM_160.append(ssim)\n",
    "print(\"***测试结束***\")"
   ]
  },
  {
   "cell_type": "code",
   "execution_count": 4,
   "id": "f122c1eb-e205-4f9a-b599-1a2e519418d4",
   "metadata": {
    "tags": []
   },
   "outputs": [
    {
     "name": "stdout",
     "output_type": "stream",
     "text": [
      "MSE_AVG = 0.035252288\n",
      "MSE_0   = 0.013924792\n",
      "MSE_40  = 0.023784742\n",
      "MSE_80  = 0.0400623\n",
      "MSE_120 = 0.05082128\n",
      "MSE_160 = 0.054319452\n"
     ]
    },
    {
     "name": "stderr",
     "output_type": "stream",
     "text": [
      "/usr/local/lib/python3.6/dist-packages/ipykernel_launcher.py:6: UserWarning: FixedFormatter should only be used together with FixedLocator\n",
      "  \n"
     ]
    },
    {
     "data": {
      "image/png": "[encoded data removed]",
      "text/plain": [
       "<Figure size 432x288 with 1 Axes>"
      ]
     },
     "metadata": {
      "needs_background": "light"
     },
     "output_type": "display_data"
    }
   ],
   "source": [
    "data = [MSE_0, MSE_40, MSE_80, MSE_120, MSE_160]\n",
    "plt.violinplot(data,showmeans=True)\n",
    "plt.xlabel('genome distance')\n",
    "plt.ylabel('MSE')\n",
    "plt.grid(axis='y')\n",
    "plt.gca().set_xticklabels(['','0','40','80','120','160'])\n",
    "print(\"MSE_AVG = \" + str(np.mean(Y_mse)))\n",
    "print(\"MSE_0   = \" + str(np.mean(MSE_0)))\n",
    "print(\"MSE_40  = \" + str(np.mean(MSE_40)))\n",
    "print(\"MSE_80  = \" + str(np.mean(MSE_80)))\n",
    "print(\"MSE_120 = \" + str(np.mean(MSE_120)))\n",
    "print(\"MSE_160 = \" + str(np.mean(MSE_160)))"
   ]
  },
  {
   "cell_type": "code",
   "execution_count": null,
   "id": "195d4ea0-8d29-4b72-84fa-0e5fc0d6aa29",
   "metadata": {},
   "outputs": [],
   "source": []
  }
 ],
 "metadata": {
  "kernelspec": {
   "display_name": "Python 3",
   "language": "python",
   "name": "python3"
  },
  "language_info": {
   "codemirror_mode": {
    "name": "ipython",
    "version": 3
   },
   "file_extension": ".py",
   "mimetype": "text/x-python",
   "name": "python",
   "nbconvert_exporter": "python",
   "pygments_lexer": "ipython3",
   "version": "3.6.9"
  }
 },
 "nbformat": 4,
 "nbformat_minor": 5
}
